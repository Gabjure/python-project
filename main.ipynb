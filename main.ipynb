{
 "cells": [
  {
   "cell_type": "code",
   "execution_count": 1,
   "metadata": {
    "ExecuteTime": {
     "end_time": "2020-01-11T10:52:47.315775Z",
     "start_time": "2020-01-11T10:52:47.310501Z"
    }
   },
   "outputs": [],
   "source": [
    "# define rooms and items, when calling the items call them by index list[i]\n",
    "location = [\"game room\", \"bedroom 1\", \"bedroom 2\", \"living room\", \"outside\"]\n",
    "\n",
    "furniture = [\"couch\", \"piano\", \"queen bed\", \"double bed\", \"dresser\"]\n",
    "\n",
    "door = [\"door a\", \"door b\", \"door c\", \"door d\"]"
   ]
  },
  {
   "cell_type": "code",
   "execution_count": 2,
   "metadata": {
    "ExecuteTime": {
     "end_time": "2020-01-11T10:52:47.575689Z",
     "start_time": "2020-01-11T10:52:47.568474Z"
    }
   },
   "outputs": [],
   "source": [
    "#given that the keys need to be related to a door it is better to do it the next way\n",
    "key_a = {\n",
    "    \"name\": \"key for door a\",\n",
    "    \"type\": \"key\",\n",
    "    \"target\": door[0],\n",
    "}\n",
    "\n",
    "key_b = {\n",
    "    \"name\": \"key for door b\",\n",
    "    \"type\": \"key\",\n",
    "    \"target\": door[1],\n",
    "}\n",
    "\n",
    "key_c = {\n",
    "    \"name\": \"key for door c\",\n",
    "    \"type\": \"key\",\n",
    "    \"target\": door[2]\n",
    "}\n",
    "\n",
    "key_d = {\n",
    "    \"name\": \"key for door d\",\n",
    "    \"type\": \"key\",\n",
    "    \"target\": door[3],\n",
    "}"
   ]
  },
  {
   "cell_type": "code",
   "execution_count": 3,
   "metadata": {
    "ExecuteTime": {
     "end_time": "2020-01-11T10:52:48.244555Z",
     "start_time": "2020-01-11T10:52:48.231874Z"
    }
   },
   "outputs": [],
   "source": [
    "# define which items/rooms are related\n",
    "\n",
    "object_relations = {\n",
    "    location[0]: [furniture[:2], door[0]],\n",
    "    location[1]: [furniture[2], door[:3]],\n",
    "    location[2]: [furniture[3:5], door[1]],\n",
    "    location[3]: [door[3:5]],\n",
    "    location[4]: [door[3]],\n",
    "    furniture[1]: [key_a],\n",
    "    furniture[2]: [key_b],\n",
    "    furniture[3]: [key_c],\n",
    "    furniture[4]: [key_d],\n",
    "    door[0]: [location[0:2]],\n",
    "    door[1]: [location[1:3]],\n",
    "    door[2]: [location[1], location[3]],\n",
    "    door[0]: [location[3:5]]\n",
    "}"
   ]
  },
  {
   "cell_type": "code",
   "execution_count": 4,
   "metadata": {
    "ExecuteTime": {
     "end_time": "2020-01-11T10:52:49.253920Z",
     "start_time": "2020-01-11T10:52:49.249029Z"
    }
   },
   "outputs": [],
   "source": [
    "# define game state. Do not directly change this dict. \n",
    "# Instead, when a new game starts, make a copy of this\n",
    "# dict and use the copy to store gameplay state. This \n",
    "# way you can replay the game multiple times.\n",
    "\n",
    "INIT_GAME_STATE = {\n",
    "    \"current_room\": location[0],\n",
    "    \"keys_collected\": [],\n",
    "    \"target_room\": location[1]\n",
    "}"
   ]
  },
  {
   "cell_type": "code",
   "execution_count": 5,
   "metadata": {
    "ExecuteTime": {
     "end_time": "2020-01-11T10:52:49.750079Z",
     "start_time": "2020-01-11T10:52:49.745856Z"
    }
   },
   "outputs": [],
   "source": [
    "def linebreak():\n",
    "    \"\"\"\n",
    "    Print a line break\n",
    "    \"\"\"\n",
    "    print(\"\\n\\n\")"
   ]
  },
  {
   "cell_type": "code",
   "execution_count": 6,
   "metadata": {
    "ExecuteTime": {
     "end_time": "2020-01-11T10:52:50.556315Z",
     "start_time": "2020-01-11T10:52:50.552041Z"
    }
   },
   "outputs": [],
   "source": [
    "def start_game():\n",
    "    \"\"\"\n",
    "    Start the game\n",
    "    \"\"\"\n",
    "    print(\"You wake up on a couch and find yourself in a strange house with no windows which you have never been to before. You don't remember why you are here and what had happened before. You feel some unknown danger is approaching and you must get out of the house, NOW!\")\n",
    "    play_room(game_state[location[0]])"
   ]
  },
  {
   "cell_type": "code",
   "execution_count": 7,
   "metadata": {
    "ExecuteTime": {
     "end_time": "2020-01-11T10:52:50.984155Z",
     "start_time": "2020-01-11T10:52:50.976061Z"
    }
   },
   "outputs": [],
   "source": [
    "def play_room(room):\n",
    "    \"\"\"\n",
    "    Play a room. First check if the room being played is the target room.\n",
    "    If it is, the game will end with success. Otherwise, let player either \n",
    "    explore (list all items in this room) or examine an item found here.\n",
    "    \"\"\"\n",
    "    game_state[\"current_room\"] = location\n",
    "    if(game_state[\"current_room\"] == game_state[\"target_room\"]):\n",
    "        print(\"Congrats! You escaped the room!\")\n",
    "    else:\n",
    "        print(\"You are now in \" + location[:])\n",
    "        intended_action = input(\"What would you like to do? Type 'explore' or 'examine'?\").strip()\n",
    "        if intended_action == \"explore\":\n",
    "            explore_room(room)\n",
    "            play_room(room)\n",
    "        elif intended_action == \"examine\":\n",
    "            examine_item(input(\"What would you like to examine?\").strip())\n",
    "        else:\n",
    "            print(\"Not sure what you mean. Type 'explore' or 'examine'.\")\n",
    "            play_room(room)\n",
    "        linebreak()"
   ]
  },
  {
   "cell_type": "code",
   "execution_count": 8,
   "metadata": {
    "ExecuteTime": {
     "end_time": "2020-01-11T10:52:51.494745Z",
     "start_time": "2020-01-11T10:52:51.489228Z"
    }
   },
   "outputs": [],
   "source": [
    "def explore_room(location):\n",
    "    \"\"\"\n",
    "    Explore a room. List all items belonging to this room.\n",
    "    \"\"\"\n",
    "    items = [i[\"name\"] for i in object_relations[location[:]]]\n",
    "    print(\"You explore the room. This is \" + location[:] + \". You find \" + \", \".join(items))"
   ]
  },
  {
   "cell_type": "code",
   "execution_count": 9,
   "metadata": {
    "ExecuteTime": {
     "end_time": "2020-01-11T10:52:51.778994Z",
     "start_time": "2020-01-11T10:52:51.772976Z"
    }
   },
   "outputs": [],
   "source": [
    "def get_next_room_of_door(door, current_room):\n",
    "    \"\"\"\n",
    "    From object_relations, find the two rooms connected to the given door.\n",
    "    Return the room that is not the current_room.\n",
    "    \"\"\"\n",
    "    connected_rooms = object_relations[door[\"name\"]]\n",
    "    for room in connected_rooms:\n",
    "        if(not current_room == room):\n",
    "            return room"
   ]
  },
  {
   "cell_type": "code",
   "execution_count": 10,
   "metadata": {
    "ExecuteTime": {
     "end_time": "2020-01-11T10:52:52.573142Z",
     "start_time": "2020-01-11T10:52:52.559978Z"
    }
   },
   "outputs": [],
   "source": [
    "def examine_item(item_name):\n",
    "    \"\"\"\n",
    "    Examine an item which can be a door or furniture.\n",
    "    First make sure the intended item belongs to the current room.\n",
    "    Then check if the item is a door. Tell player if key hasn't been \n",
    "    collected yet. Otherwise ask player if they want to go to the next\n",
    "    room. If the item is not a door, then check if it contains keys.\n",
    "    Collect the key if found and update the game state. At the end,\n",
    "    play either the current or the next room depending on the game state\n",
    "    to keep playing.\n",
    "    \"\"\"\n",
    "    current_room = game_state[\"current_room\"]\n",
    "    next_room = \"\"\n",
    "    output = None\n",
    "    \n",
    "    for item in object_relations[current_room[\"name\"]]:\n",
    "        if(item[\"name\"] == item_name):\n",
    "            output = \"You examine \" + item_name + \". \"\n",
    "            if(item[\"type\"] == \"door\"):\n",
    "                have_key = False\n",
    "                for key in game_state[\"keys_collected\"]:\n",
    "                    if(key[\"target\"] == item):\n",
    "                        have_key = True\n",
    "                if(have_key):\n",
    "                    output += \"You unlock it with a key you have.\"\n",
    "                    next_room = get_next_room_of_door(item, current_room)\n",
    "                else:\n",
    "                    output += \"It is locked but you don't have the key.\"\n",
    "            else:\n",
    "                if(item[\"name\"] in object_relations and len(object_relations[item[\"name\"]])>0):\n",
    "                    item_found = object_relations[item[\"name\"]].pop()\n",
    "                    game_state[\"keys_collected\"].append(item_found)\n",
    "                    output += \"You find \" + item_found[\"name\"] + \".\"\n",
    "                else:\n",
    "                    output += \"There isn't anything interesting about it.\"\n",
    "            print(output)\n",
    "            break\n",
    "\n",
    "    if(output is None):\n",
    "        print(\"The item you requested is not found in the current room.\")\n",
    "    \n",
    "    if(next_room and input(\"Do you want to go to the next room? Enter 'yes' or 'no': \").strip() == 'yes'):\n",
    "        play_room(next_room)\n",
    "    else:\n",
    "        play_room(current_room)"
   ]
  },
  {
   "cell_type": "code",
   "execution_count": 11,
   "metadata": {
    "ExecuteTime": {
     "end_time": "2020-01-11T10:52:53.563882Z",
     "start_time": "2020-01-11T10:52:53.417426Z"
    }
   },
   "outputs": [
    {
     "name": "stdout",
     "output_type": "stream",
     "text": [
      "You wake up on a couch and find yourself in a strange house with no windows which you have never been to before. You don't remember why you are here and what had happened before. You feel some unknown danger is approaching and you must get out of the house, NOW!\n"
     ]
    },
    {
     "ename": "KeyError",
     "evalue": "'game room'",
     "output_type": "error",
     "traceback": [
      "\u001b[0;31m---------------------------------------------------------------------------\u001b[0m",
      "\u001b[0;31mKeyError\u001b[0m                                  Traceback (most recent call last)",
      "\u001b[0;32m<ipython-input-11-2c0d15a1ff83>\u001b[0m in \u001b[0;36m<module>\u001b[0;34m\u001b[0m\n\u001b[1;32m      1\u001b[0m \u001b[0mgame_state\u001b[0m \u001b[0;34m=\u001b[0m \u001b[0mINIT_GAME_STATE\u001b[0m\u001b[0;34m.\u001b[0m\u001b[0mcopy\u001b[0m\u001b[0;34m(\u001b[0m\u001b[0;34m)\u001b[0m\u001b[0;34m\u001b[0m\u001b[0;34m\u001b[0m\u001b[0m\n\u001b[1;32m      2\u001b[0m \u001b[0;34m\u001b[0m\u001b[0m\n\u001b[0;32m----> 3\u001b[0;31m \u001b[0mstart_game\u001b[0m\u001b[0;34m(\u001b[0m\u001b[0;34m)\u001b[0m\u001b[0;34m\u001b[0m\u001b[0;34m\u001b[0m\u001b[0m\n\u001b[0m",
      "\u001b[0;32m<ipython-input-6-2044cc80b10e>\u001b[0m in \u001b[0;36mstart_game\u001b[0;34m()\u001b[0m\n\u001b[1;32m      4\u001b[0m     \"\"\"\n\u001b[1;32m      5\u001b[0m     \u001b[0mprint\u001b[0m\u001b[0;34m(\u001b[0m\u001b[0;34m\"You wake up on a couch and find yourself in a strange house with no windows which you have never been to before. You don't remember why you are here and what had happened before. You feel some unknown danger is approaching and you must get out of the house, NOW!\"\u001b[0m\u001b[0;34m)\u001b[0m\u001b[0;34m\u001b[0m\u001b[0;34m\u001b[0m\u001b[0m\n\u001b[0;32m----> 6\u001b[0;31m     \u001b[0mplay_room\u001b[0m\u001b[0;34m(\u001b[0m\u001b[0mgame_state\u001b[0m\u001b[0;34m[\u001b[0m\u001b[0mlocation\u001b[0m\u001b[0;34m[\u001b[0m\u001b[0;36m0\u001b[0m\u001b[0;34m]\u001b[0m\u001b[0;34m]\u001b[0m\u001b[0;34m)\u001b[0m\u001b[0;34m\u001b[0m\u001b[0;34m\u001b[0m\u001b[0m\n\u001b[0m",
      "\u001b[0;31mKeyError\u001b[0m: 'game room'"
     ]
    }
   ],
   "source": [
    "game_state = INIT_GAME_STATE.copy()\n",
    "\n",
    "start_game()"
   ]
  },
  {
   "cell_type": "code",
   "execution_count": null,
   "metadata": {
    "ExecuteTime": {
     "end_time": "2020-01-10T18:04:00.659514Z",
     "start_time": "2020-01-10T18:04:00.427Z"
    }
   },
   "outputs": [],
   "source": [
    "# define rooms and items\n",
    "\n",
    "couch = {\n",
    "    \"name\": \"couch\",\n",
    "    \"type\": \"furniture\",\n",
    "}\n",
    "\n",
    "door_a = {\n",
    "    \"name\": \"door a\",\n",
    "    \"type\": \"door\",\n",
    "}\n",
    "\n",
    "key_a = {\n",
    "    \"name\": \"key for door a\",\n",
    "    \"type\": \"key\",\n",
    "    \"target\": door_a,\n",
    "}\n",
    "\n",
    "piano = {\n",
    "    \"name\": \"piano\",\n",
    "    \"type\": \"furniture\",\n",
    "}\n",
    "\n",
    "game_room = {\n",
    "    \"name\": \"game room\",\n",
    "    \"type\": \"room\",\n",
    "}\n",
    "\n",
    "outside = {\n",
    "  \"name\": \"outside\"\n",
    "}\n",
    "\n",
    "all_rooms = [game_room, outside]\n",
    "\n",
    "all_doors = [door_a]\n",
    "\n",
    "# define which items/rooms are related\n",
    "\n",
    "object_relations = {\n",
    "    \"game room\": [couch, piano, door_a],\n",
    "    \"piano\": [key_a],\n",
    "    \"outside\": [door_a],\n",
    "    \"door a\": [game_room, outside]\n",
    "}\n",
    "\n",
    "# define game state. Do not directly change this dict. \n",
    "# Instead, when a new game starts, make a copy of this\n",
    "# dict and use the copy to store gameplay state. This \n",
    "# way you can replay the game multiple times.\n",
    "\n",
    "INIT_GAME_STATE = {\n",
    "    \"current_room\": game_room,\n",
    "    \"keys_collected\": [],\n",
    "    \"target_room\": outside\n",
    "}"
   ]
  },
  {
   "cell_type": "code",
   "execution_count": null,
   "metadata": {},
   "outputs": [],
   "source": []
  }
 ],
 "metadata": {
  "kernelspec": {
   "display_name": "Python 3",
   "language": "python",
   "name": "python3"
  },
  "language_info": {
   "codemirror_mode": {
    "name": "ipython",
    "version": 3
   },
   "file_extension": ".py",
   "mimetype": "text/x-python",
   "name": "python",
   "nbconvert_exporter": "python",
   "pygments_lexer": "ipython3",
   "version": "3.7.5"
  }
 },
 "nbformat": 4,
 "nbformat_minor": 2
}
