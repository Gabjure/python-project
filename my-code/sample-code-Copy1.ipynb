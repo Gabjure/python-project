{
 "cells": [
  {
   "cell_type": "code",
   "execution_count": 1,
   "metadata": {
    "ExecuteTime": {
     "end_time": "2020-01-16T21:41:52.897422Z",
     "start_time": "2020-01-16T21:41:52.854746Z"
    },
    "code_folding": [
     0
    ]
   },
   "outputs": [],
   "source": [
    "#Start running here\n",
    "import time\n",
    "from termcolor import colored\n",
    "from playsound import playsound\n",
    "from PIL import Image \n",
    "import os\n",
    "\n",
    "hc = Image.open(\"./Hostel Collection.jpeg\")\n",
    "\n",
    "\n",
    "\n",
    "\n",
    "#kills kernel\n",
    "#os._exit(00)\n",
    "\n",
    "#playsound('./lidcreak.mp3')\n",
    "#playsound('./headchop.mp3')\n",
    "#playsound(\"Scream+Female+2.mp3\")\n",
    "#playsound(\"close_door_3.mp3\")\n",
    "#def heartbeat():\n",
    "#    playsound(\"heartbeat.mp3\")\n",
    "#    playsound(\"heartbeat.mp3\")\n",
    "#    playsound(\"heartbeat.mp3\")\n",
    "#    playsound(\"heartbeat.mp3\")\n"
   ]
  },
  {
   "cell_type": "code",
   "execution_count": 2,
   "metadata": {
    "ExecuteTime": {
     "end_time": "2020-01-16T21:41:53.202814Z",
     "start_time": "2020-01-16T21:41:53.196135Z"
    },
    "code_folding": [
     0
    ]
   },
   "outputs": [],
   "source": [
    "# defines locations\n",
    "game_room = {\n",
    "    \"name\": \"Game Room\",\n",
    "    \"type\": \"room\",}\n",
    "\n",
    "bedroom_a = {\n",
    "    \"name\": \"Bedroom A\",\n",
    "    \"type\": \"room\",}\n",
    "\n",
    "bedroom_b = {\n",
    "    \"name\": \"Bedroom B\",\n",
    "    \"type\": \"room\",}\n",
    "\n",
    "living_room = {\n",
    "    \"name\": \"Living Room\",\n",
    "    \"type\": \"room\",}\n",
    "\n",
    "outside = {\n",
    "  \"name\": \"The Outside\"}\n",
    "\n",
    "death = {\n",
    "    \"name\": \"Torture Chamber\"\n",
    "}\n",
    "\n",
    "all_rooms = [game_room, bedroom_a, bedroom_b, living_room, outside, death]"
   ]
  },
  {
   "cell_type": "code",
   "execution_count": 3,
   "metadata": {
    "ExecuteTime": {
     "end_time": "2020-01-16T21:41:53.413958Z",
     "start_time": "2020-01-16T21:41:53.404719Z"
    },
    "code_folding": [
     0
    ]
   },
   "outputs": [],
   "source": [
    "# defines items\n",
    "couch = {\n",
    "    \"name\": \"Couch\",\n",
    "    \"type\": \"furniture\",\n",
    "}\n",
    "\n",
    "piano = {\n",
    "    \"name\": \"Piano\",\n",
    "    \"type\": \"furniture\",\n",
    "}\n",
    "\n",
    "queen_bed = {\n",
    "    \"name\": \"Queen Bed\",\n",
    "    \"type\": \"furniture\",\n",
    "}\n",
    "\n",
    "double_bed = {\n",
    "    \"name\": \"Double Bed\",\n",
    "    \"type\": \"furniture\",\n",
    "}\n",
    "\n",
    "dresser = {\n",
    "    \"name\": \"Dresser\",\n",
    "    \"type\": \"furniture\",\n",
    "}\n",
    "\n",
    "dining_table = {\n",
    "    \"name\": \"Dining Table\",\n",
    "    \"type\": \"furniture\",\n",
    "}\n",
    "\n",
    "big_mirror = {\n",
    "    \"name\": \"Big Mirror\",\n",
    "    \"type\": \"furniture\",\n",
    "}\n",
    "\n",
    "small_mirror = {\n",
    "    \"name\": \"Small Mirror\",\n",
    "    \"type\": \"furniture\",\n",
    "}\n",
    "\n",
    "creepy_painting = {\n",
    "    \"name\": \"Creepy Painting\",\n",
    "    \"type\": \"furniture\",\n",
    "}\n",
    "\n"
   ]
  },
  {
   "cell_type": "code",
   "execution_count": 4,
   "metadata": {
    "ExecuteTime": {
     "end_time": "2020-01-16T21:41:53.712493Z",
     "start_time": "2020-01-16T21:41:53.706021Z"
    },
    "code_folding": [
     0
    ]
   },
   "outputs": [],
   "source": [
    "# defines doors\n",
    "door_a = {\n",
    "    \"name\": \"Door A\",\n",
    "    \"type\": \"door\",\n",
    "}\n",
    "\n",
    "door_b = {\n",
    "    \"name\": \"Door B\",\n",
    "    \"type\": \"door\",\n",
    "}\n",
    "\n",
    "door_c = {\n",
    "    \"name\": \"Door C\",\n",
    "    \"type\": \"door\",\n",
    "}\n",
    "\n",
    "door_d = {\n",
    "    \"name\": \"Door D\",\n",
    "    \"type\": \"door\",\n",
    "}\n",
    "\n",
    "door_e = {\n",
    "    \"name\": \"Door E\",\n",
    "    \"type\": \"door\",\n",
    "}\n",
    "\n",
    "all_doors = [door_a, door_b, door_c, door_d, door_e]"
   ]
  },
  {
   "cell_type": "code",
   "execution_count": 5,
   "metadata": {
    "ExecuteTime": {
     "end_time": "2020-01-16T21:41:53.979440Z",
     "start_time": "2020-01-16T21:41:53.970722Z"
    },
    "code_folding": [
     0
    ]
   },
   "outputs": [],
   "source": [
    "# defines keys\n",
    "key_a = {\n",
    "    \"name\": \"Key for Door A\",\n",
    "    \"type\": \"key\",\n",
    "    \"target\": door_a,\n",
    "}\n",
    "\n",
    "key_b = {\n",
    "    \"name\": \"Key for Door B\",\n",
    "    \"type\": \"key\",\n",
    "    \"target\": door_b,\n",
    "}\n",
    "\n",
    "key_c = {\n",
    "    \"name\": \"Key for Door C\",\n",
    "    \"type\": \"key\",\n",
    "    \"target\": door_c,\n",
    "}\n",
    "\n",
    "key_d = {\n",
    "    \"name\": \"Key for Door D\",\n",
    "    \"type\": \"key\",\n",
    "    \"target\": door_d,\n",
    "}\n",
    "\n",
    "reflection_of_death = {\n",
    "    \"name\": \"the reflection of death\",\n",
    "    \"type\": \"key\",\n",
    "    \"target\": door_e\n",
    "}\n",
    "\n",
    "hand_gun = {\n",
    "    \"name\": \"Gun\",\n",
    "    \"type\": \"furniture\",\n",
    "    \"target\": None\n",
    "}\n",
    "\n",
    "hand_gun_bullets = {\n",
    "    \"name\": \"Bullets\",\n",
    "    \"type\": \"furniture\",\n",
    "    \"target\": None\n",
    "}\n"
   ]
  },
  {
   "cell_type": "code",
   "execution_count": 6,
   "metadata": {
    "ExecuteTime": {
     "end_time": "2020-01-16T21:41:54.214168Z",
     "start_time": "2020-01-16T21:41:54.204433Z"
    },
    "code_folding": [
     0
    ]
   },
   "outputs": [],
   "source": [
    "# defines which items/rooms are related\n",
    "object_relations = {\n",
    "    \"Game Room\": [couch, piano, creepy_painting, door_a,],\n",
    "    \"Bedroom A\": [queen_bed, big_mirror, door_a, door_b, door_c,], \n",
    "    \"Bedroom B\":[double_bed, dresser, small_mirror, door_b,] , \n",
    "    \"Living Room\": [dining_table, creepy_painting, door_c, door_d, door_e],\n",
    "    \"Torture Chamber\": [door_e, hand_gun], #\"You should NOT be here, get out of here NOW!\"\\]\n",
    "    \"The Outside\": [door_d],\n",
    "    \"Piano\": [key_a],\n",
    "    \"Creepy Painting\": [hand_gun_bullets],\n",
    "    \"Queen Bed\": [key_b],\n",
    "    \"Double Bed\": [key_c],\n",
    "    \"Dresser\": [key_d],\n",
    "    \"Big Mirror\": [reflection_of_death],\n",
    "    \"Door A\": [game_room, bedroom_a],\n",
    "    \"Door B\": [bedroom_a, bedroom_b], \n",
    "    \"Door C\": [bedroom_a, living_room], \n",
    "    \"Door D\": [outside],\n",
    "    \"Door E\": [death, living_room]\n",
    "}"
   ]
  },
  {
   "cell_type": "code",
   "execution_count": 7,
   "metadata": {
    "ExecuteTime": {
     "end_time": "2020-01-16T21:41:54.457115Z",
     "start_time": "2020-01-16T21:41:54.452972Z"
    },
    "code_folding": [
     0
    ]
   },
   "outputs": [],
   "source": [
    "# defines game state. Do not directly change this dict. \n",
    "# Instead, when a new game starts, make a copy of this\n",
    "# dict and use the copy to store gameplay state. This \n",
    "# way you can replay the game multiple times.\n",
    "\n",
    "INIT_GAME_STATE = {\n",
    "    \"current_room\": game_room,\n",
    "    \"keys_collected\": [],\n",
    "    \"target_room\": outside\n",
    "}"
   ]
  },
  {
   "cell_type": "code",
   "execution_count": 8,
   "metadata": {
    "ExecuteTime": {
     "end_time": "2020-01-16T21:41:54.822648Z",
     "start_time": "2020-01-16T21:41:54.818780Z"
    },
    "code_folding": [
     0
    ]
   },
   "outputs": [],
   "source": [
    "def linebreak():\n",
    "    \"\"\"\n",
    "    Print a line break\n",
    "    \"\"\"\n",
    "    print(\"\\n\\n\")"
   ]
  },
  {
   "cell_type": "code",
   "execution_count": 9,
   "metadata": {
    "ExecuteTime": {
     "end_time": "2020-01-16T21:41:55.268561Z",
     "start_time": "2020-01-16T21:41:55.262820Z"
    },
    "code_folding": [
     0
    ]
   },
   "outputs": [],
   "source": [
    "def getting_shot():\n",
    "    playsound(\"Gun+Clip.mp3\")\n",
    "    playsound(\"Gun+Cock.mp3\")\n",
    "    playsound('./headchop.mp3')"
   ]
  },
  {
   "cell_type": "code",
   "execution_count": 10,
   "metadata": {
    "ExecuteTime": {
     "end_time": "2020-01-16T21:41:56.096798Z",
     "start_time": "2020-01-16T21:41:56.087494Z"
    },
    "code_folding": [
     0
    ]
   },
   "outputs": [],
   "source": [
    "def start_game():\n",
    "    \"\"\"\n",
    "    Start the game\n",
    "    \"\"\"\n",
    "    playsound(\"heartbeat.mp3\")\n",
    "    print(\"You wake up on a couch and find yourself in a strange \"\n",
    "          \"house with no windows which you have never been to before.\\n\\n\")\n",
    "    playsound(\"heartbeat.mp3\")\n",
    "    print(\"You don't remember why you are here and what had happened before.\\n\\n\")\n",
    "    playsound(\"heartbeat.mp3\")\n",
    "    print(\"You feel some unknown danger is approaching and you must get out of the house...\\n\\n \")\n",
    "    playsound(\"heartbeat.mp3\")\n",
    "    print(\"You feel uneasy and your heart is racing\\n\\n\")\n",
    "    playsound(\"heartbeat.mp3\")\n",
    "    playsound(\"Scream+Female+2.mp3\")\n",
    "    print(\"You hear a bang in the distance\\n\\n\")\n",
    "    playsound('./loud_bang.wav')\n",
    "    playsound(\"heartbeat.mp3\")\n",
    "    print(\"You have to leave as soon as possible\\n\\n\")\n",
    "    playsound(\"close_door_3.mp3\")\n",
    "    print(colored(\"NOW!\\n\", \"red\", attrs=[\"bold\"]))\n",
    "    time.sleep(0.5)\n",
    "    print(colored(\"GO!\\n\", \"red\", attrs=[\"bold\"]))\n",
    "    time.sleep(0.5)\n",
    "    print(colored(\"GO!\\n\", \"red\", attrs=[\"bold\"]))\n",
    "    time.sleep(0.5)\n",
    "    print(colored(\"GO!\\n\\n\", \"red\", attrs=[\"bold\"]))\n",
    "    play_room(game_state[\"current_room\"])    "
   ]
  },
  {
   "cell_type": "code",
   "execution_count": 40,
   "metadata": {
    "ExecuteTime": {
     "end_time": "2020-01-16T22:03:42.164916Z",
     "start_time": "2020-01-16T22:03:42.131796Z"
    },
    "code_folding": []
   },
   "outputs": [],
   "source": [
    "def play_room(room):\n",
    "    \"\"\"\n",
    "    Play a room. First check if the room being played is the target room.\n",
    "    If it is, the game will end with success. Otherwise, let player either \n",
    "    explore (list all items in this room) or examine an item found here.\n",
    "    \"\"\"\n",
    "    game_state[\"current_room\"] = room\n",
    "    if(game_state[\"current_room\"] == game_state[\"target_room\"]):\n",
    "        playsound('./lidcreak.mp3')\n",
    "        time.sleep(0.5)\n",
    "        print(colored(\"You escape the house!\\n\", attrs=[\"bold\", \"underline\"]))\n",
    "        time.sleep(0.5)\n",
    "        print(colored(\"You hear a noise behind you and look back\\n\", \"red\", attrs=[\"bold\"]))\n",
    "        time.sleep(0.5)\n",
    "        getting_shot()\n",
    "        print(colored(\"You've been shot in the head...\\n\", \"red\", attrs=[\"bold\"]))\n",
    "        time.sleep(0.5)\n",
    "        print(colored(\"Try escaping faster the next time!\\n\", \"red\", attrs=[\"bold\", \"blink\"]))\n",
    "        time.sleep(2)\n",
    "        hc.show()\n",
    "        #print(\"Do you want to play again?\")\n",
    "        #intended_action = input(colored(\"\\n→ yes\", attrs=[\"bold\"])\n",
    "                                #+ colored(\"\\n→ no\\n\", attrs=[\"bold\"]) + \"\\n\\n\").strip()\n",
    "        #linebreak()\n",
    "        #if intended_action == \"yes\":\n",
    "            #restart_game()     \n",
    "        #else:\n",
    "            #print(\"Your loss\")\n",
    "    elif(game_state[\"current_room\"] == death):\n",
    "        playsound('./lidcreak.mp3')\n",
    "        print(\"You are now in the \" + colored(room[\"name\"], attrs=[\"bold\"]) + \"!\\n\")\n",
    "        time.sleep(0.2)\n",
    "        print(colored(\"GET OUT AS SOON AS POSSIBLE\\n\", \"red\", attrs=[\"bold\"]))\n",
    "        time.sleep(0.2)\n",
    "        print(\"What would you like to do?\\n\")\n",
    "        time.sleep(0.2)\n",
    "        print(\"Type:\")\n",
    "        time.sleep(0.2)\n",
    "        intended_action = input(colored(\"\\n→ explore \", attrs=[\"bold\"]) + \"\\n\"\n",
    "                                + colored(\"\\n→ examine \", attrs=[\"bold\"]) + \"\\n\"\n",
    "                                + (colored(\"\\n→ GET OUT\\n\", \"red\", attrs=[\"bold\"]))).strip()\n",
    "        if intended_action == \"explore\":\n",
    "            time.sleep(0.2)\n",
    "            explore_room(room)\n",
    "            time.sleep(0.2)\n",
    "            play_room(room)\n",
    "        elif intended_action == \"examine\":\n",
    "            time.sleep(0.2)\n",
    "            examine_item(input(\"What would you like to \" +\n",
    "                                colored(\"examine\", attrs=[\"bold\"]) + \"?\\n\").strip())\n",
    "        elif intended_action == \"GET OUT\":\n",
    "            time.sleep(0.2)\n",
    "            play_room(living_room)\n",
    "        else:\n",
    "            print(\"Not sure what you mean.\\n\\nType:\" + \n",
    "                                colored(\"\\n→ explore\", attrs=[\"bold\"])+ \n",
    "                                colored(\"\\n→ examine\\n\", attrs=[\"bold\"]))\n",
    "            play_room(room)\n",
    "    elif(game_state[\"current_room\"] == game_room):\n",
    "        print(\"You are now in the \" + colored(room[\"name\"], attrs=[\"bold\"]) + \"!\\n\")\n",
    "        time.sleep(0.5)\n",
    "        intended_action = input(\"\\nWhat would you like to do?\\nType:\\n\" + \n",
    "                                colored(\"\\n     → explore\", attrs=[\"bold\"]) +\n",
    "                                colored(\"\\n     → examine\\n\", attrs=[\"bold\"])).strip()\n",
    "        if intended_action == \"explore\":\n",
    "            time.sleep(0.5)\n",
    "            explore_room(room)\n",
    "            time.sleep(0.5)\n",
    "            play_room(room)\n",
    "        elif intended_action == \"examine\":\n",
    "            time.sleep(0.5)\n",
    "            examine_item(input(\"\\nWhat would you like to \" +\n",
    "                                colored(\"examine\", attrs=[\"bold\"]) + \"? \").strip())\n",
    "        else:\n",
    "            print(\"Not sure what you mean.\\nType:\\n\" + \n",
    "                                colored(\"\\n→ explore \", attrs=[\"bold\"]) + \n",
    "                                colored(\"\\n→ examine\\n\", attrs=[\"bold\"]))\n",
    "            play_room(room)\n",
    "    else:\n",
    "        playsound('./lidcreak.mp3')\n",
    "        print(\"You are now in the \" + colored(room[\"name\"], attrs=[\"bold\"]) + \"!\\n\")\n",
    "        time.sleep(0.5)\n",
    "        intended_action = input(\"What would you like to do?\\n\\nType:\\n\" + \n",
    "                                colored(\"\\n→ explore\", attrs=[\"bold\"]) + \n",
    "                                colored(\"\\n→ examine\\n\\n\", attrs=[\"bold\"])).strip()\n",
    "        if intended_action == \"explore\":\n",
    "            time.sleep(0.5)\n",
    "            explore_room(room)\n",
    "            time.sleep(0.5)\n",
    "            play_room(room)\n",
    "        elif intended_action == \"examine\":\n",
    "            time.sleep(0.5)\n",
    "            examine_item(input(\"What would you like to \" +\n",
    "                               colored(\"examine\", attrs=[\"bold\"]) + \"?\\n\").strip())\n",
    "        else:\n",
    "            print(\"Not sure what you mean.\\nType:\\n\" + \n",
    "                                colored(\"\\n→ explore \", attrs=[\"bold\"]) + \n",
    "                                colored(\"\\n→ examine\\n\", attrs=[\"bold\"]))\n",
    "            play_room(room)\n",
    "        linebreak()"
   ]
  },
  {
   "cell_type": "code",
   "execution_count": null,
   "metadata": {
    "ExecuteTime": {
     "start_time": "2020-01-16T22:03:42.561Z"
    }
   },
   "outputs": [
    {
     "name": "stdout",
     "output_type": "stream",
     "text": [
      "You are now in the \u001b[1mBedroom A\u001b[0m!\n",
      "\n"
     ]
    }
   ],
   "source": [
    "play_room(bedroom_a)"
   ]
  },
  {
   "cell_type": "code",
   "execution_count": 13,
   "metadata": {
    "ExecuteTime": {
     "end_time": "2020-01-16T21:42:00.635189Z",
     "start_time": "2020-01-16T21:42:00.627958Z"
    },
    "code_folding": [
     0
    ]
   },
   "outputs": [],
   "source": [
    "def explore_room(room):\n",
    "    \"\"\"\n",
    "    Explore a room. List all items belonging to this room.\n",
    "    \"\"\"\n",
    "    items = [i[\"name\"] for i in object_relations[room[\"name\"]]]\n",
    "    print(\"\\nYou explore the room. This is the:\\n\")\n",
    "    time.sleep(0.2)\n",
    "    print((colored(room[\"name\"], attrs=[\"bold\"])) + (\"!\\n\"))\n",
    "    time.sleep(0.2)\n",
    "    print((\"You look around and see:\\n\\n→ a \") + (\"\\n\\n→ a \".join(items)))\n",
    "    linebreak()"
   ]
  },
  {
   "cell_type": "code",
   "execution_count": 14,
   "metadata": {
    "ExecuteTime": {
     "end_time": "2020-01-16T21:42:00.960023Z",
     "start_time": "2020-01-16T21:42:00.954657Z"
    },
    "code_folding": [
     0
    ]
   },
   "outputs": [],
   "source": [
    "def get_next_room_of_door(door, current_room):\n",
    "    \"\"\"\n",
    "    From object_relations, find the two rooms connected to the given door.\n",
    "    Return the room that is not the current_room.\n",
    "    \"\"\"\n",
    "    connected_rooms = object_relations[door[\"name\"]]\n",
    "    for room in connected_rooms:\n",
    "        if(not current_room == room):\n",
    "            return room\n",
    "        linebreak()"
   ]
  },
  {
   "cell_type": "code",
   "execution_count": 15,
   "metadata": {
    "ExecuteTime": {
     "end_time": "2020-01-16T21:42:01.197425Z",
     "start_time": "2020-01-16T21:42:01.171618Z"
    },
    "code_folding": [
     0
    ]
   },
   "outputs": [],
   "source": [
    "def examine_item(item_name):\n",
    "    \"\"\"\n",
    "    Examine an item which can be a door or furniture.\n",
    "    First make sure the intended item belongs to the current room.\n",
    "    Then check if the item is a door. Tell player if key hasn't been \n",
    "    collected yet. Otherwise ask player if they want to go to the next\n",
    "    room. If the item is not a door, then check if it contains keys.\n",
    "    Collect the key if found and update the game state. At the end,\n",
    "    play either the current or the next room depending on the game state\n",
    "    to keep playing.\n",
    "    \"\"\"\n",
    "    current_room = game_state[\"current_room\"]\n",
    "    next_room = \"\"\n",
    "    output = None\n",
    "    \n",
    "    for item in object_relations[current_room[\"name\"]]:\n",
    "        if(item[\"name\"] == item_name):\n",
    "            output = \"You examine the \" + colored(item_name, attrs = [\"bold\"]) + \".\\n\"\n",
    "            if(item[\"type\"] == \"door\"):\n",
    "                have_key = False\n",
    "                for key in game_state[\"keys_collected\"]:\n",
    "                    if(key[\"target\"] == item):\n",
    "                        have_key = True\n",
    "                if(have_key):\n",
    "                    output += \"You unlock it with the key you have.\"\n",
    "                    next_room = get_next_room_of_door(item, current_room)\n",
    "                else:\n",
    "                    output += (\"It is locked and you don't have the key.\\n\"\n",
    "                    + colored(\"Hurry up and find it before your captors return!\", \"red\", attrs = [\"bold\"]))\n",
    "            else:\n",
    "                if(item[\"name\"] in object_relations and len(object_relations[item[\"name\"]])>0):\n",
    "                    if(item[\"name\"] == \"Creepy Painting\"):\n",
    "                        item_found = object_relations[item[\"name\"]].pop()\n",
    "                        game_state[\"keys_collected\"].append(item_found)\n",
    "                        output += (\"That creeepy painting looks like it's watching you...\\nDon't stare at it too long\" + \n",
    "                            \"You find the \" + colored(item_found[\"name\"], attrs=[\"bold\"]) + \".\" )\n",
    "                    elif(item[\"name\"] == \"Big Mirror\"):\n",
    "                        item_found = object_relations[item[\"name\"]].pop()\n",
    "                        game_state[\"keys_collected\"].append(item_found)\n",
    "                        output += (\"You don't look that good... How long have you been hold here for?\" + \n",
    "                            \"You find the \" + colored(item_found[\"name\"], attrs=[\"bold\"]) + \".\" )\n",
    "                    elif(item[\"name\"] == \"Small Mirror\"):\n",
    "                        item_found = object_relations[item[\"name\"]].pop()\n",
    "                        game_state[\"keys_collected\"].append(item_found)\n",
    "                        output += (\"There's some blood running through your face, go find something to clean yourself with\" + \n",
    "                            \"You find the \" + colored(item_found[\"name\"], attrs=[\"bold\"]) + \".\" )\n",
    "                    else:\n",
    "                        item_found = object_relations[item[\"name\"]].pop()\n",
    "                        game_state[\"keys_collected\"].append(item_found)\n",
    "                        output += \"You find \" + item_found[\"name\"] + \".\"                     \n",
    "                else:\n",
    "                    if(item[\"name\"] == \"Creepy Painting\"):\n",
    "                        output += \"That creeepy painting looks like it's watching you...\\nDon't stare at it too long\\n\"\n",
    "                    elif(item[\"name\"] == \"Big Mirror\"):\n",
    "                        output += \"Did you see that?\" + colored(\"Go hide! Quickly!\", attrs = [\"bold\"])\n",
    "                    elif(item[\"name\"] == \"Small Mirror\"):\n",
    "                        output += \"Stop looking at yourself and \" + colored(\"get out\", attrs = [\"bold\"]) + \"!\"\n",
    "                    else:\n",
    "                        output += (\"There isn't anything interesting about it.\\n\"\n",
    "                     + colored(\"Stop messing around or you will get yourself killed\", \"red\", attrs = [\"bold\"]))\n",
    "            print(output)\n",
    "            linebreak()\n",
    "            break\n",
    "            \n",
    "    if(output is None):\n",
    "        print(\"You look around but you \" +  colored(\"can't \", \"red\", attrs=[\"bold\"]) \n",
    "              + \"see it in the current room.\\n\")\n",
    "        time.sleep(0.2)\n",
    "        print(\"Are you sure it's here?\")\n",
    "        linebreak()\n",
    "    \n",
    "    if(next_room and input(\"Do you want to go to the next room? Enter: \" + \n",
    "                           colored('yes ', attrs = [\"bold\"]) + \"or \" + \n",
    "                           colored('no', attrs = [\"bold\"]) + \": \").strip() == 'yes'):\n",
    "        play_room(next_room)\n",
    "        linebreak()\n",
    "    else:\n",
    "        play_room(current_room)\n",
    "        linebreak()"
   ]
  },
  {
   "cell_type": "code",
   "execution_count": 36,
   "metadata": {
    "ExecuteTime": {
     "end_time": "2020-01-16T22:02:37.612931Z",
     "start_time": "2020-01-16T22:00:26.738177Z"
    }
   },
   "outputs": [
    {
     "name": "stdout",
     "output_type": "stream",
     "text": [
      "You wake up on a couch and find yourself in a strange house with no windows which you have never been to before.\n",
      "\n",
      "\n",
      "You don't remember why you are here and what had happened before.\n",
      "\n",
      "\n",
      "You feel some unknown danger is approaching and you must get out of the house...\n",
      "\n",
      " \n",
      "You feel uneasy and your heart is racing\n",
      "\n",
      "\n",
      "You hear a bang in the distance\n",
      "\n",
      "\n",
      "You have to leave as soon as possible\n",
      "\n",
      "\n",
      "\u001b[1m\u001b[31mNOW!\n",
      "\u001b[0m\n",
      "\u001b[1m\u001b[31mGO!\n",
      "\u001b[0m\n",
      "\u001b[1m\u001b[31mGO!\n",
      "\u001b[0m\n",
      "\u001b[1m\u001b[31mGO!\n",
      "\n",
      "\u001b[0m\n",
      "You are now in the \u001b[1mGame Room\u001b[0m!\n",
      "\n",
      "What would you like to do?\n",
      "Type:\n",
      "→ explore\n",
      "→ examine\n",
      "explore\n",
      "You explore the room. This is the:\n",
      "\n",
      "\u001b[1mGame Room\u001b[0m!\n",
      "\n",
      "You look around and see:\n",
      "\n",
      "→ a Couch\n",
      "\n",
      "→ a Piano\n",
      "\n",
      "→ a Creepy Painting\n",
      "\n",
      "→ a Door A\n",
      "\n",
      "\n",
      "\n",
      "You are now in the \u001b[1mGame Room\u001b[0m!\n"
     ]
    },
    {
     "ename": "KeyboardInterrupt",
     "evalue": "",
     "output_type": "error",
     "traceback": [
      "\u001b[0;31m---------------------------------------------------------------------------\u001b[0m",
      "\u001b[0;31mKeyboardInterrupt\u001b[0m                         Traceback (most recent call last)",
      "\u001b[0;32m/usr/local/lib/python3.7/site-packages/ipykernel/kernelbase.py\u001b[0m in \u001b[0;36m_input_request\u001b[0;34m(self, prompt, ident, parent, password)\u001b[0m\n\u001b[1;32m    883\u001b[0m             \u001b[0;32mtry\u001b[0m\u001b[0;34m:\u001b[0m\u001b[0;34m\u001b[0m\u001b[0;34m\u001b[0m\u001b[0m\n\u001b[0;32m--> 884\u001b[0;31m                 \u001b[0mident\u001b[0m\u001b[0;34m,\u001b[0m \u001b[0mreply\u001b[0m \u001b[0;34m=\u001b[0m \u001b[0mself\u001b[0m\u001b[0;34m.\u001b[0m\u001b[0msession\u001b[0m\u001b[0;34m.\u001b[0m\u001b[0mrecv\u001b[0m\u001b[0;34m(\u001b[0m\u001b[0mself\u001b[0m\u001b[0;34m.\u001b[0m\u001b[0mstdin_socket\u001b[0m\u001b[0;34m,\u001b[0m \u001b[0;36m0\u001b[0m\u001b[0;34m)\u001b[0m\u001b[0;34m\u001b[0m\u001b[0;34m\u001b[0m\u001b[0m\n\u001b[0m\u001b[1;32m    885\u001b[0m             \u001b[0;32mexcept\u001b[0m \u001b[0mException\u001b[0m\u001b[0;34m:\u001b[0m\u001b[0;34m\u001b[0m\u001b[0;34m\u001b[0m\u001b[0m\n",
      "\u001b[0;32m/usr/local/lib/python3.7/site-packages/jupyter_client/session.py\u001b[0m in \u001b[0;36mrecv\u001b[0;34m(self, socket, mode, content, copy)\u001b[0m\n\u001b[1;32m    802\u001b[0m         \u001b[0;32mtry\u001b[0m\u001b[0;34m:\u001b[0m\u001b[0;34m\u001b[0m\u001b[0;34m\u001b[0m\u001b[0m\n\u001b[0;32m--> 803\u001b[0;31m             \u001b[0mmsg_list\u001b[0m \u001b[0;34m=\u001b[0m \u001b[0msocket\u001b[0m\u001b[0;34m.\u001b[0m\u001b[0mrecv_multipart\u001b[0m\u001b[0;34m(\u001b[0m\u001b[0mmode\u001b[0m\u001b[0;34m,\u001b[0m \u001b[0mcopy\u001b[0m\u001b[0;34m=\u001b[0m\u001b[0mcopy\u001b[0m\u001b[0;34m)\u001b[0m\u001b[0;34m\u001b[0m\u001b[0;34m\u001b[0m\u001b[0m\n\u001b[0m\u001b[1;32m    804\u001b[0m         \u001b[0;32mexcept\u001b[0m \u001b[0mzmq\u001b[0m\u001b[0;34m.\u001b[0m\u001b[0mZMQError\u001b[0m \u001b[0;32mas\u001b[0m \u001b[0me\u001b[0m\u001b[0;34m:\u001b[0m\u001b[0;34m\u001b[0m\u001b[0;34m\u001b[0m\u001b[0m\n",
      "\u001b[0;32m/usr/local/lib/python3.7/site-packages/zmq/sugar/socket.py\u001b[0m in \u001b[0;36mrecv_multipart\u001b[0;34m(self, flags, copy, track)\u001b[0m\n\u001b[1;32m    474\u001b[0m         \"\"\"\n\u001b[0;32m--> 475\u001b[0;31m         \u001b[0mparts\u001b[0m \u001b[0;34m=\u001b[0m \u001b[0;34m[\u001b[0m\u001b[0mself\u001b[0m\u001b[0;34m.\u001b[0m\u001b[0mrecv\u001b[0m\u001b[0;34m(\u001b[0m\u001b[0mflags\u001b[0m\u001b[0;34m,\u001b[0m \u001b[0mcopy\u001b[0m\u001b[0;34m=\u001b[0m\u001b[0mcopy\u001b[0m\u001b[0;34m,\u001b[0m \u001b[0mtrack\u001b[0m\u001b[0;34m=\u001b[0m\u001b[0mtrack\u001b[0m\u001b[0;34m)\u001b[0m\u001b[0;34m]\u001b[0m\u001b[0;34m\u001b[0m\u001b[0;34m\u001b[0m\u001b[0m\n\u001b[0m\u001b[1;32m    476\u001b[0m         \u001b[0;31m# have first part already, only loop while more to receive\u001b[0m\u001b[0;34m\u001b[0m\u001b[0;34m\u001b[0m\u001b[0;34m\u001b[0m\u001b[0m\n",
      "\u001b[0;32mzmq/backend/cython/socket.pyx\u001b[0m in \u001b[0;36mzmq.backend.cython.socket.Socket.recv\u001b[0;34m()\u001b[0m\n",
      "\u001b[0;32mzmq/backend/cython/socket.pyx\u001b[0m in \u001b[0;36mzmq.backend.cython.socket.Socket.recv\u001b[0;34m()\u001b[0m\n",
      "\u001b[0;32mzmq/backend/cython/socket.pyx\u001b[0m in \u001b[0;36mzmq.backend.cython.socket._recv_copy\u001b[0;34m()\u001b[0m\n",
      "\u001b[0;32m/usr/local/lib/python3.7/site-packages/zmq/backend/cython/checkrc.pxd\u001b[0m in \u001b[0;36mzmq.backend.cython.checkrc._check_rc\u001b[0;34m()\u001b[0m\n",
      "\u001b[0;31mKeyboardInterrupt\u001b[0m: ",
      "\nDuring handling of the above exception, another exception occurred:\n",
      "\u001b[0;31mKeyboardInterrupt\u001b[0m                         Traceback (most recent call last)",
      "\u001b[0;32m<ipython-input-36-2c0d15a1ff83>\u001b[0m in \u001b[0;36m<module>\u001b[0;34m\u001b[0m\n\u001b[1;32m      1\u001b[0m \u001b[0mgame_state\u001b[0m \u001b[0;34m=\u001b[0m \u001b[0mINIT_GAME_STATE\u001b[0m\u001b[0;34m.\u001b[0m\u001b[0mcopy\u001b[0m\u001b[0;34m(\u001b[0m\u001b[0;34m)\u001b[0m\u001b[0;34m\u001b[0m\u001b[0;34m\u001b[0m\u001b[0m\n\u001b[1;32m      2\u001b[0m \u001b[0;34m\u001b[0m\u001b[0m\n\u001b[0;32m----> 3\u001b[0;31m \u001b[0mstart_game\u001b[0m\u001b[0;34m(\u001b[0m\u001b[0;34m)\u001b[0m\u001b[0;34m\u001b[0m\u001b[0;34m\u001b[0m\u001b[0m\n\u001b[0m",
      "\u001b[0;32m<ipython-input-10-d752ac58c501>\u001b[0m in \u001b[0;36mstart_game\u001b[0;34m()\u001b[0m\n\u001b[1;32m     26\u001b[0m     \u001b[0mtime\u001b[0m\u001b[0;34m.\u001b[0m\u001b[0msleep\u001b[0m\u001b[0;34m(\u001b[0m\u001b[0;36m0.5\u001b[0m\u001b[0;34m)\u001b[0m\u001b[0;34m\u001b[0m\u001b[0;34m\u001b[0m\u001b[0m\n\u001b[1;32m     27\u001b[0m     \u001b[0mprint\u001b[0m\u001b[0;34m(\u001b[0m\u001b[0mcolored\u001b[0m\u001b[0;34m(\u001b[0m\u001b[0;34m\"GO!\\n\\n\"\u001b[0m\u001b[0;34m,\u001b[0m \u001b[0;34m\"red\"\u001b[0m\u001b[0;34m,\u001b[0m \u001b[0mattrs\u001b[0m\u001b[0;34m=\u001b[0m\u001b[0;34m[\u001b[0m\u001b[0;34m\"bold\"\u001b[0m\u001b[0;34m]\u001b[0m\u001b[0;34m)\u001b[0m\u001b[0;34m)\u001b[0m\u001b[0;34m\u001b[0m\u001b[0;34m\u001b[0m\u001b[0m\n\u001b[0;32m---> 28\u001b[0;31m     \u001b[0mplay_room\u001b[0m\u001b[0;34m(\u001b[0m\u001b[0mgame_state\u001b[0m\u001b[0;34m[\u001b[0m\u001b[0;34m\"current_room\"\u001b[0m\u001b[0;34m]\u001b[0m\u001b[0;34m)\u001b[0m\u001b[0;34m\u001b[0m\u001b[0;34m\u001b[0m\u001b[0m\n\u001b[0m",
      "\u001b[0;32m<ipython-input-19-193a85493ad0>\u001b[0m in \u001b[0;36mplay_room\u001b[0;34m(room)\u001b[0m\n\u001b[1;32m     66\u001b[0m             \u001b[0mexplore_room\u001b[0m\u001b[0;34m(\u001b[0m\u001b[0mroom\u001b[0m\u001b[0;34m)\u001b[0m\u001b[0;34m\u001b[0m\u001b[0;34m\u001b[0m\u001b[0m\n\u001b[1;32m     67\u001b[0m             \u001b[0mtime\u001b[0m\u001b[0;34m.\u001b[0m\u001b[0msleep\u001b[0m\u001b[0;34m(\u001b[0m\u001b[0;36m0.2\u001b[0m\u001b[0;34m)\u001b[0m\u001b[0;34m\u001b[0m\u001b[0;34m\u001b[0m\u001b[0m\n\u001b[0;32m---> 68\u001b[0;31m             \u001b[0mplay_room\u001b[0m\u001b[0;34m(\u001b[0m\u001b[0mroom\u001b[0m\u001b[0;34m)\u001b[0m\u001b[0;34m\u001b[0m\u001b[0;34m\u001b[0m\u001b[0m\n\u001b[0m\u001b[1;32m     69\u001b[0m         \u001b[0;32melif\u001b[0m \u001b[0mintended_action\u001b[0m \u001b[0;34m==\u001b[0m \u001b[0;34m\"examine\"\u001b[0m\u001b[0;34m:\u001b[0m\u001b[0;34m\u001b[0m\u001b[0;34m\u001b[0m\u001b[0m\n\u001b[1;32m     70\u001b[0m             \u001b[0mtime\u001b[0m\u001b[0;34m.\u001b[0m\u001b[0msleep\u001b[0m\u001b[0;34m(\u001b[0m\u001b[0;36m0.2\u001b[0m\u001b[0;34m)\u001b[0m\u001b[0;34m\u001b[0m\u001b[0;34m\u001b[0m\u001b[0m\n",
      "\u001b[0;32m<ipython-input-19-193a85493ad0>\u001b[0m in \u001b[0;36mplay_room\u001b[0;34m(room)\u001b[0m\n\u001b[1;32m     61\u001b[0m         intended_action = input(\"\\nWhat would you like to do?\\nType:\" + \n\u001b[1;32m     62\u001b[0m                                 \u001b[0mcolored\u001b[0m\u001b[0;34m(\u001b[0m\u001b[0;34m\"\\n→ explore\"\u001b[0m\u001b[0;34m,\u001b[0m \u001b[0mattrs\u001b[0m\u001b[0;34m=\u001b[0m\u001b[0;34m[\u001b[0m\u001b[0;34m\"bold\"\u001b[0m\u001b[0;34m]\u001b[0m\u001b[0;34m)\u001b[0m \u001b[0;34m+\u001b[0m\u001b[0;34m\u001b[0m\u001b[0;34m\u001b[0m\u001b[0m\n\u001b[0;32m---> 63\u001b[0;31m                                 colored(\"\\n→ examine\\n\", attrs=[\"bold\"])).strip()\n\u001b[0m\u001b[1;32m     64\u001b[0m         \u001b[0;32mif\u001b[0m \u001b[0mintended_action\u001b[0m \u001b[0;34m==\u001b[0m \u001b[0;34m\"explore\"\u001b[0m\u001b[0;34m:\u001b[0m\u001b[0;34m\u001b[0m\u001b[0;34m\u001b[0m\u001b[0m\n\u001b[1;32m     65\u001b[0m             \u001b[0mtime\u001b[0m\u001b[0;34m.\u001b[0m\u001b[0msleep\u001b[0m\u001b[0;34m(\u001b[0m\u001b[0;36m0.2\u001b[0m\u001b[0;34m)\u001b[0m\u001b[0;34m\u001b[0m\u001b[0;34m\u001b[0m\u001b[0m\n",
      "\u001b[0;32m/usr/local/lib/python3.7/site-packages/ipykernel/kernelbase.py\u001b[0m in \u001b[0;36mraw_input\u001b[0;34m(self, prompt)\u001b[0m\n\u001b[1;32m    857\u001b[0m             \u001b[0mself\u001b[0m\u001b[0;34m.\u001b[0m\u001b[0m_parent_ident\u001b[0m\u001b[0;34m,\u001b[0m\u001b[0;34m\u001b[0m\u001b[0;34m\u001b[0m\u001b[0m\n\u001b[1;32m    858\u001b[0m             \u001b[0mself\u001b[0m\u001b[0;34m.\u001b[0m\u001b[0m_parent_header\u001b[0m\u001b[0;34m,\u001b[0m\u001b[0;34m\u001b[0m\u001b[0;34m\u001b[0m\u001b[0m\n\u001b[0;32m--> 859\u001b[0;31m             \u001b[0mpassword\u001b[0m\u001b[0;34m=\u001b[0m\u001b[0;32mFalse\u001b[0m\u001b[0;34m,\u001b[0m\u001b[0;34m\u001b[0m\u001b[0;34m\u001b[0m\u001b[0m\n\u001b[0m\u001b[1;32m    860\u001b[0m         )\n\u001b[1;32m    861\u001b[0m \u001b[0;34m\u001b[0m\u001b[0m\n",
      "\u001b[0;32m/usr/local/lib/python3.7/site-packages/ipykernel/kernelbase.py\u001b[0m in \u001b[0;36m_input_request\u001b[0;34m(self, prompt, ident, parent, password)\u001b[0m\n\u001b[1;32m    887\u001b[0m             \u001b[0;32mexcept\u001b[0m \u001b[0mKeyboardInterrupt\u001b[0m\u001b[0;34m:\u001b[0m\u001b[0;34m\u001b[0m\u001b[0;34m\u001b[0m\u001b[0m\n\u001b[1;32m    888\u001b[0m                 \u001b[0;31m# re-raise KeyboardInterrupt, to truncate traceback\u001b[0m\u001b[0;34m\u001b[0m\u001b[0;34m\u001b[0m\u001b[0;34m\u001b[0m\u001b[0m\n\u001b[0;32m--> 889\u001b[0;31m                 \u001b[0;32mraise\u001b[0m \u001b[0mKeyboardInterrupt\u001b[0m\u001b[0;34m\u001b[0m\u001b[0;34m\u001b[0m\u001b[0m\n\u001b[0m\u001b[1;32m    890\u001b[0m             \u001b[0;32melse\u001b[0m\u001b[0;34m:\u001b[0m\u001b[0;34m\u001b[0m\u001b[0;34m\u001b[0m\u001b[0m\n\u001b[1;32m    891\u001b[0m                 \u001b[0;32mbreak\u001b[0m\u001b[0;34m\u001b[0m\u001b[0;34m\u001b[0m\u001b[0m\n",
      "\u001b[0;31mKeyboardInterrupt\u001b[0m: "
     ]
    }
   ],
   "source": [
    "game_state = INIT_GAME_STATE.copy()\n",
    "\n",
    "start_game()"
   ]
  },
  {
   "cell_type": "code",
   "execution_count": 35,
   "metadata": {
    "ExecuteTime": {
     "end_time": "2020-01-16T21:59:57.218426Z",
     "start_time": "2020-01-16T21:59:57.203766Z"
    },
    "code_folding": [
     0
    ]
   },
   "outputs": [
    {
     "ename": "IndentationError",
     "evalue": "unexpected indent (<ipython-input-35-4ef415cbb0c3>, line 2)",
     "output_type": "error",
     "traceback": [
      "\u001b[0;36m  File \u001b[0;32m\"<ipython-input-35-4ef415cbb0c3>\"\u001b[0;36m, line \u001b[0;32m2\u001b[0m\n\u001b[0;31m    INIT_GAME_STATE = {\u001b[0m\n\u001b[0m    ^\u001b[0m\n\u001b[0;31mIndentationError\u001b[0m\u001b[0;31m:\u001b[0m unexpected indent\n"
     ]
    }
   ],
   "source": [
    "#def restart_game():\n",
    "    INIT_GAME_STATE = {\n",
    "    \"current_room\": game_room,\n",
    "    \"keys_collected\": [],\n",
    "    \"target_room\": outside}\n",
    "    INIT_GAME_STATE[\"keys_collected\"] = []\n",
    "    game_state = INIT_GAME_STATE.copy()\n",
    "    start_game()\n"
   ]
  }
 ],
 "metadata": {
  "kernelspec": {
   "display_name": "Python 3",
   "language": "python",
   "name": "python3"
  },
  "language_info": {
   "codemirror_mode": {
    "name": "ipython",
    "version": 3
   },
   "file_extension": ".py",
   "mimetype": "text/x-python",
   "name": "python",
   "nbconvert_exporter": "python",
   "pygments_lexer": "ipython3",
   "version": "3.7.5"
  }
 },
 "nbformat": 4,
 "nbformat_minor": 2
}
